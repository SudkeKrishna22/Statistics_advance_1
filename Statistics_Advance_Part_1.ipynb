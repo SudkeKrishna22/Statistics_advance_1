{
  "nbformat": 4,
  "nbformat_minor": 0,
  "metadata": {
    "colab": {
      "provenance": []
    },
    "kernelspec": {
      "name": "python3",
      "display_name": "Python 3"
    },
    "language_info": {
      "name": "python"
    }
  },
  "cells": [
    {
      "cell_type": "markdown",
      "source": [
        "1)  What is a random variable in probability theory ?\n",
        "\n",
        "Ans:- A random variable is a function that assigns a numerical value to each outcome in a sample space of a random experiment."
      ],
      "metadata": {
        "id": "JXUQHnEGbSun"
      }
    },
    {
      "cell_type": "markdown",
      "source": [
        "2)What are the types of random variables ?\n",
        "\n",
        "Ans:- Two main types:\n",
        "\n",
        "Discrete random variables (take countable values, e.g., number of heads)\n",
        "\n",
        "Continuous random variables (take any value in an interval, e.g., height)"
      ],
      "metadata": {
        "id": "Ko4v6OKrbS8l"
      }
    },
    {
      "cell_type": "markdown",
      "source": [
        " 3) What is the difference between discrete and continuous distributions\n",
        "\n",
        " Ans:- Discrete distributions: Probability mass is assigned to specific points.\n",
        "\n",
        "Continuous distributions: Probability is assigned over intervals via a density function."
      ],
      "metadata": {
        "id": "45mU9AglbS-5"
      }
    },
    {
      "cell_type": "markdown",
      "source": [
        "4)What are probability distribution functions (PDF)9 ?\n",
        "\n",
        "Ans:- PDF usually refers to Probability Density Function for continuous variables, describing the relative likelihood of the variable taking on a value. For discrete variables, it’s called a probability mass function (PMF)."
      ],
      "metadata": {
        "id": "rywuLvvAb1RS"
      }
    },
    {
      "cell_type": "markdown",
      "source": [
        "5) How do cumulative distribution functions (CDF) differ from probability distribution functions (PDF)9 ?\n",
        "\n",
        "Ans:- CDF gives the probability that a random variable is less than or equal to a value (cumulative).\n",
        "PDF or PMF gives the probability density or exact probability at a specific value."
      ],
      "metadata": {
        "id": "xdt7LQCdcHxD"
      }
    },
    {
      "cell_type": "markdown",
      "source": [
        "6) What is a discrete uniform distribution ?\n",
        "\n",
        "Ans:- A distribution where all outcomes in a finite set have equal probability.\n",
        "\n"
      ],
      "metadata": {
        "id": "BioI53A_hL8h"
      }
    },
    {
      "cell_type": "markdown",
      "source": [
        "7) What are the key properties of a Bernoulli distribution ?\n",
        "\n",
        "Ans:- Two outcomes: success (1) with probability p, failure (0) with probability 1-p\n",
        "\n",
        "Mean = p\n",
        "\n",
        "Variance = p(1-p)"
      ],
      "metadata": {
        "id": "ud9oMA9EhWM5"
      }
    },
    {
      "cell_type": "markdown",
      "source": [
        "8)What is the binomial distribution, and how is it used in probability ?\n",
        "\n",
        "Ans:- It models the number of successes in n independent Bernoulli trials with success probability p.\n"
      ],
      "metadata": {
        "id": "z_NBkrYShx4v"
      }
    },
    {
      "cell_type": "markdown",
      "source": [
        "9)What is the Poisson distribution and where is it applied ?\n",
        "\n",
        "Ans:- Models the number of events in a fixed interval when events occur independently at a constant average rate. Used in queuing, traffic flow, etc."
      ],
      "metadata": {
        "id": "Upis1qOCh6FY"
      }
    },
    {
      "cell_type": "markdown",
      "source": [
        "10) What is a continuous uniform distribution ?\n",
        "\n",
        "Ans:- All values in an interval [a, b] are equally likely, with constant PDF = 1/(b-a).\n",
        "\n"
      ],
      "metadata": {
        "id": "3S55FMT8h5__"
      }
    },
    {
      "cell_type": "markdown",
      "source": [
        "11)What are the characteristics of a normal distribution ?\n",
        "\n",
        "Ans:- Symmetric, bell-shaped\n",
        "\n",
        "Defined by mean (μ) and variance (σ²)\n",
        "\n",
        "Mean = median = mode\n",
        "\n",
        "Total area under curve = 1"
      ],
      "metadata": {
        "id": "FuUAM2Q1h58-"
      }
    },
    {
      "cell_type": "markdown",
      "source": [
        "12) What is the standard normal distribution, and why is it important ?\n",
        "\n",
        "Ans:- A normal distribution with mean 0 and variance 1. It’s the reference for Z-scores and many statistical methods."
      ],
      "metadata": {
        "id": "F5n_V5oQiU1l"
      }
    },
    {
      "cell_type": "markdown",
      "source": [
        "13)  What is the Central Limit Theorem (CLT), and why is it critical in statistics ?\n",
        "\n",
        "Ans:- CLT states that the sum (or average) of a large number of independent, identically distributed variables approaches a normal distribution, regardless of the original distribution. It justifies using normal approximations."
      ],
      "metadata": {
        "id": "iMLn_a1jiUyr"
      }
    },
    {
      "cell_type": "markdown",
      "source": [
        "14)How does the Central Limit Theorem relate to the normal distribution ?\n",
        "\n",
        "Ans:- It explains why sample means tend to be normally distributed for large samples, even if the data are not normal.It explains why sample means tend to be normally distributed for large samples, even if the data are not normal."
      ],
      "metadata": {
        "id": "0n8-Hhu2iUuC"
      }
    },
    {
      "cell_type": "markdown",
      "source": [
        "15) What is the application of Z statistics in hypothesis testing ?\n",
        "\n",
        "Ans:- Z statistics standardize a sample statistic to compare against the standard normal distribution for significance testing."
      ],
      "metadata": {
        "id": "IDF5S4qtiUst"
      }
    },
    {
      "cell_type": "markdown",
      "source": [
        "16) How do you calculate a Z-score, and what does it represent ?\n",
        "\n",
        "Ans:- Z = (X - μ) / σ, where X is a value, μ is mean, σ is standard deviation. It shows how many standard deviations X is from the mean."
      ],
      "metadata": {
        "id": "ZoUrw0X-i5K9"
      }
    },
    {
      "cell_type": "markdown",
      "source": [
        "17) What are point estimates and interval estimates in statistics ?\n",
        "\n",
        "Ans:-Point estimate: Single value estimate of a parameter (e.g., sample mean)\n",
        "\n",
        "Interval estimate: Range of values (confidence interval) likely containing the parameter."
      ],
      "metadata": {
        "id": "doOMs6whi5Gd"
      }
    },
    {
      "cell_type": "markdown",
      "source": [
        "18)What is the significance of confidence intervals in statistical analysis ?\n",
        "\n",
        "Ans:- They provide a range with a specified probability (confidence level) that the true parameter lies within it.\n"
      ],
      "metadata": {
        "id": "dum-V2Moi5E_"
      }
    },
    {
      "cell_type": "markdown",
      "source": [
        "19) What is the relationship between a Z-score and a confidence interval ?\n",
        "\n",
        "Ans:- Z-scores determine the critical values used to construct confidence intervals around an estimate."
      ],
      "metadata": {
        "id": "ipPOJv5Ki5A0"
      }
    },
    {
      "cell_type": "markdown",
      "source": [
        "20) How are Z-scores used to compare different distributions ?\n",
        "\n",
        "Ans:- Z-scores standardize values from different distributions to a common scale (mean 0, SD 1), enabling direct comparison."
      ],
      "metadata": {
        "id": "yRzCp59Hi49V"
      }
    },
    {
      "cell_type": "markdown",
      "source": [
        "21) What are the assumptions for applying the Central Limit Theorem ?4\n",
        "\n",
        "Ans:-Samples are independent\n",
        "\n",
        "Sample size is sufficiently large\n",
        "\n",
        "The variables are identically distributed (or at least have finite variance)"
      ],
      "metadata": {
        "id": "ditjzpJtjjSe"
      }
    },
    {
      "cell_type": "markdown",
      "source": [
        "22)  What is the concept of expected value in a probability distribution ?\n",
        "\n",
        "Ans:- The weighted average or mean value of a random variable, calculated as sum/integral of values times their probabilities/densities."
      ],
      "metadata": {
        "id": "lbEmyqX5js1M"
      }
    },
    {
      "cell_type": "markdown",
      "source": [
        "23) How does a probability distribution relate to the expected outcome of a random variable?\n",
        "\n",
        "Ans:- The probability distribution defines the likelihood of outcomes, and the expected value summarizes the average outcome weighted by these probabilities."
      ],
      "metadata": {
        "id": "qPEkVSLfj5K6"
      }
    },
    {
      "cell_type": "code",
      "source": [],
      "metadata": {
        "id": "C70q7P91jhaX"
      },
      "execution_count": null,
      "outputs": []
    }
  ]
}